{
 "cells": [
  {
   "cell_type": "code",
   "execution_count": 1,
   "id": "dc79f65c",
   "metadata": {},
   "outputs": [
    {
     "name": "stdout",
     "output_type": "stream",
     "text": [
      "Empty List\n",
      "\n"
     ]
    }
   ],
   "source": [
    "#Creating List\n",
    "list = []\n",
    "print(\"Empty List\")\n",
    "print()"
   ]
  },
  {
   "cell_type": "code",
   "execution_count": 3,
   "id": "b8a2c82d",
   "metadata": {},
   "outputs": [
    {
     "name": "stdout",
     "output_type": "stream",
     "text": [
      "List Of Numbers :\n",
      "[1, 2, 3, 10, 20]\n"
     ]
    }
   ],
   "source": [
    "#Creating a List Of Numbers\n",
    "list = [1,2,3,10,20]\n",
    "print(\"List Of Numbers :\")\n",
    "print(list)"
   ]
  },
  {
   "cell_type": "code",
   "execution_count": 9,
   "id": "6ad759f9",
   "metadata": {},
   "outputs": [
    {
     "name": "stdout",
     "output_type": "stream",
     "text": [
      "Without Loop:\n",
      "Geeks\n",
      "for\n",
      "Geek\n",
      "-------------\n",
      "Using Loop:\n",
      "Geeks\n",
      "for\n",
      "Geek\n"
     ]
    }
   ],
   "source": [
    "#Creating a List Of String And Acessing\n",
    "#using index\n",
    "list = [\"Geeks\", \"for\",\"Geek\"]\n",
    "print('Without Loop:')\n",
    "print(list[0])\n",
    "print(list[1])\n",
    "print(list[2])\n",
    "\n",
    "print('-------------')\n",
    "print(\"Using Loop:\")\n",
    "#using Loop\n",
    "for item in list:\n",
    "    print(item)\n",
    "    "
   ]
  },
  {
   "cell_type": "code",
   "execution_count": 10,
   "id": "32adc8a7",
   "metadata": {},
   "outputs": [
    {
     "name": "stdout",
     "output_type": "stream",
     "text": [
      "[['Geeks', 'For'], ['Geeks']]\n"
     ]
    }
   ],
   "source": [
    "#Multi-Dimensional List\n",
    "list = [['Geeks','For'],['Geeks']]\n",
    "print(list)"
   ]
  },
  {
   "cell_type": "code",
   "execution_count": 12,
   "id": "4bd2c2b1",
   "metadata": {},
   "outputs": [
    {
     "name": "stdout",
     "output_type": "stream",
     "text": [
      "Without Loop  :\n",
      "[1, 2, 3, 4, 5, 5, 67, 7, 8, 9, 10, 67]\n",
      "\n",
      "With Loop  :\n",
      "1\n",
      "2\n",
      "3\n",
      "4\n",
      "5\n",
      "5\n",
      "67\n",
      "7\n",
      "8\n",
      "9\n",
      "10\n",
      "67\n"
     ]
    }
   ],
   "source": [
    "#creating List With Duplicate Values\n",
    "mylist = [1,2,3,4,5,5,67,7,8,9,10,67]\n",
    "print('Without Loop  :')\n",
    "print(list)\n",
    "print()\n",
    "print('With Loop  :')\n",
    "for item in mylist:\n",
    "    print(item)"
   ]
  },
  {
   "cell_type": "code",
   "execution_count": 16,
   "id": "e0739d4d",
   "metadata": {},
   "outputs": [
    {
     "name": "stdout",
     "output_type": "stream",
     "text": [
      "[1, 2, 34, 5, 'ALi', 77, 'Python', 'AI']\n",
      "\n",
      "Using Loop  :\n",
      "1\n",
      "2\n",
      "34\n",
      "5\n",
      "ALi\n",
      "77\n",
      "Python\n",
      "AI\n"
     ]
    }
   ],
   "source": [
    "#Lists with The use of mixed values\n",
    "my_list = [1,2,34,5,'ALi',77,'Python','AI']\n",
    "print(my_list)\n",
    "\n",
    "print()\n",
    "print('Using Loop  :')\n",
    "for item in my_list:\n",
    "    print(item)"
   ]
  },
  {
   "cell_type": "code",
   "execution_count": 20,
   "id": "0a8358e1",
   "metadata": {},
   "outputs": [
    {
     "name": "stdout",
     "output_type": "stream",
     "text": [
      "Length Of List One : 0\n",
      "Length Of List Two : 4\n"
     ]
    }
   ],
   "source": [
    "#Knowing The Size Of The List:\n",
    "my_list = []\n",
    "my_list2 = [1,2,3,4]\n",
    "\n",
    "print('Length Of List One :',len(my_list))\n",
    "print('Length Of List Two :',len(my_list2))"
   ]
  },
  {
   "cell_type": "code",
   "execution_count": 29,
   "id": "7ea47ceb",
   "metadata": {},
   "outputs": [
    {
     "name": "stdout",
     "output_type": "stream",
     "text": [
      "Before  :\n",
      "[]\n",
      "\n",
      "After Adding Elements  :\n",
      "[2, 3, 4]\n",
      "\n",
      "Adding Through Loop In List\n",
      "[0, 1, 2, 3, 4, 5, 6, 7, 8, 9]\n",
      "\n",
      "Tuple  :\n",
      "(2, 4, 2)\n",
      "\n",
      "List After Adding Tuple in List   :\n",
      "[0, 1, 2, 3, 4, 5, 6, 7, 8, 9, (2, 4, 2)]\n",
      "\n",
      "List After Adding Another List :\n",
      "[0, 1, 2, 3, 4, 5, 6, 7, 8, 9, (2, 4, 2), ['Python', 'AI', 'ML']]\n"
     ]
    }
   ],
   "source": [
    "#Adding Elements in List :\n",
    "my_list = []\n",
    "print('Before  :')\n",
    "print(my_list)\n",
    "my_list.append(2)\n",
    "my_list.append(3)\n",
    "my_list.append(4)\n",
    "print()\n",
    "print('After Adding Elements  :')\n",
    "print(my_list)\n",
    "\n",
    "my_list2 = []\n",
    "#Using Loop :\n",
    "for i in range(0,10):\n",
    "    my_list2.append(i)\n",
    "print()\n",
    "print('Adding Through Loop In List')\n",
    "print(my_list2)\n",
    "\n",
    "#Adding Tuples in List :\n",
    "my_tup = (2,4,2)\n",
    "my_list2.append(my_tup)\n",
    "print()\n",
    "print('Tuple  :')\n",
    "print(my_tup)\n",
    "\n",
    "print()\n",
    "print('List After Adding Tuple in List   :')\n",
    "print(my_list2)\n",
    "\n",
    "my_list3 = ['Python','AI','ML']\n",
    "my_list2.append(my_list3)\n",
    "print()\n",
    "print('List After Adding Another List :')\n",
    "print(my_list2)"
   ]
  },
  {
   "cell_type": "code",
   "execution_count": null,
   "id": "9679cab9",
   "metadata": {},
   "outputs": [],
   "source": []
  }
 ],
 "metadata": {
  "kernelspec": {
   "display_name": "Python 3 (ipykernel)",
   "language": "python",
   "name": "python3"
  },
  "language_info": {
   "codemirror_mode": {
    "name": "ipython",
    "version": 3
   },
   "file_extension": ".py",
   "mimetype": "text/x-python",
   "name": "python",
   "nbconvert_exporter": "python",
   "pygments_lexer": "ipython3",
   "version": "3.9.12"
  }
 },
 "nbformat": 4,
 "nbformat_minor": 5
}
