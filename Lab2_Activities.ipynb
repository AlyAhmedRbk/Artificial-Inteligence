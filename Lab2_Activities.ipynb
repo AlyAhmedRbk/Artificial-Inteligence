{
 "cells": [
  {
   "cell_type": "code",
   "execution_count": 4,
   "id": "b2803b4a",
   "metadata": {},
   "outputs": [
    {
     "name": "stdout",
     "output_type": "stream",
     "text": [
      "Enter Elements For First List    :\n",
      "Enter a Value  :2\n",
      "Enter a Value  :3\n",
      "Enter a Value  :4\n",
      "Enter a Value  :5\n",
      "Enter a Value  :6\n",
      "\n",
      "List One  :\n",
      "['2', '3', '4', '5', '6']\n",
      "Enter Elements For First List    :\n",
      "Enter a Value  :3\n",
      "Enter a Value  :2\n",
      "Enter a Value  :4\n",
      "Enter a Value  :5\n",
      "Enter a Value  :6\n",
      "\n",
      "List two  :\n",
      "[3, 2, 4, 5, 6]\n",
      "\n",
      "List Three (Adding Both List1 And List2) : \n",
      "['2', '3', '4', '5', '6', 3, 2, 4, 5, 6]\n"
     ]
    }
   ],
   "source": [
    "#Activity One :\n",
    "my_list1= []\n",
    "print('Enter Elements For First List    :')\n",
    "for i in range(5):\n",
    "    val = input('Enter a Value  :')\n",
    "    g = int(val)\n",
    "    my_list1.append(val)\n",
    "    \n",
    "print()\n",
    "print('List One  :')\n",
    "print(my_list1)\n",
    "my_list2= []\n",
    "print('Enter Elements For First List    :')\n",
    "for n in range(5):\n",
    "    val = input('Enter a Value  :')\n",
    "    g = int(val)\n",
    "    my_list2.append(g)\n",
    "    \n",
    "print()\n",
    "print('List two  :')\n",
    "print(my_list2)   \n",
    "\n",
    "my_list3 = []\n",
    "my_list3 = my_list1 + my_list2\n",
    "print()\n",
    "print('List Three (Adding Both List1 And List2) : ')\n",
    "print(my_list3)"
   ]
  },
  {
   "cell_type": "code",
   "execution_count": 10,
   "id": "f0073888",
   "metadata": {},
   "outputs": [
    {
     "name": "stdout",
     "output_type": "stream",
     "text": [
      "True\n"
     ]
    }
   ],
   "source": [
    "#Activity Two:\n",
    "\n",
    "def isPalindrome(word):\n",
    "    temp = word[::-1]\n",
    "    if temp.capitalize() == word.capitalize():\n",
    "        return True\n",
    "    else:\n",
    "        return False\n",
    "    \n",
    "print(isPalindrome('deed'))    \n",
    "        "
   ]
  },
  {
   "cell_type": "code",
   "execution_count": 22,
   "id": "370579c7",
   "metadata": {},
   "outputs": [
    {
     "name": "stdout",
     "output_type": "stream",
     "text": [
      "Matrix  :\n",
      "[[1, 4, 7], [2, 5, 8], [3, 6, 9]]\n"
     ]
    }
   ],
   "source": [
    "#Activity Three:\n",
    "a= [[1,0,0],[0,1,0],[0,0,1]]\n",
    "b= [[1,2,3],[4,5,6],[7,8,9]]\n",
    "c = []\n",
    "for indrow in range (3):\n",
    "    c.append([])\n",
    "    for indcol in range(3):\n",
    "        c[indrow].append(0)\n",
    "        for indaux in range (3):\n",
    "            c[indrow][indcol] += a[indrow][indaux] * b[indcol][indaux]\n",
    "print('Matrix  :')\n",
    "\n",
    "print(c)            "
   ]
  },
  {
   "cell_type": "code",
   "execution_count": 37,
   "id": "e63ddfaf",
   "metadata": {},
   "outputs": [
    {
     "name": "stdout",
     "output_type": "stream",
     "text": [
      "4\n"
     ]
    }
   ],
   "source": [
    "#Activity Four:\n",
    "\n",
    "def perimeter(listing):\n",
    "    length = len(listing)\n",
    "    perimeter = 0\n",
    "    for i in range(0,length-1):\n",
    "        dist = ((listing [i][0] - listing[i++1][0]**2)+listing [i][1]-listing [length-1][1]**2)**0.5\n",
    "        \n",
    "        perimeter = perimeter + dist \n",
    "        \n",
    "        perimeter = perimeter+((listing [i][0] - listing[i++1][0]**2)+listing [i][1]-listing [length-1][1]**2)**0.5\n",
    "        \n",
    "        return length\n",
    "        return perimeter\n",
    "L = [(1,3), (2,7), (3,9), (-1,8)]\n",
    "print(perimeter (L))\n",
    "\n"
   ]
  },
  {
   "cell_type": "code",
   "execution_count": 31,
   "id": "6be424ff",
   "metadata": {},
   "outputs": [
    {
     "name": "stdout",
     "output_type": "stream",
     "text": [
      "{0, 1, 2, 3, 6, 7, 8, 9, 10}\n",
      "\n",
      "Using In-Bulit Function\n",
      "{0, 1, 2, 3, 6, 7, 8, 9, 10}\n",
      "{0, 1, 2, 3, 6, 7, 8, 9, 10}\n",
      "{0, 1, 2, 3, 6, 7, 8, 9, 10}\n",
      "{0, 1, 2, 3, 6, 7, 8, 9, 10}\n"
     ]
    }
   ],
   "source": [
    "#Activity Five\n",
    "\n",
    "def symdif(a,b):\n",
    "    e = set()\n",
    "    for i in a:\n",
    "        if i not in b:\n",
    "            e.add(i)\n",
    "    for i in b:\n",
    "        if i not in a:\n",
    "            e.add(i)\n",
    "    return e\n",
    "\n",
    "set1 = {0,1,2,3,4,5}\n",
    "set2 = {4,5,6,7,8,9,10}\n",
    "\n",
    "print(symdif(set1,set2))\n",
    "\n",
    "#Using In-Bulit Function\n",
    "print()\n",
    "print('Using In-Bulit Function')\n",
    "print(set1.symmetric_difference(set2))\n",
    "print(set2.symmetric_difference(set1))\n",
    "print(set1^set2)\n",
    "print(set2^set1)\n"
   ]
  },
  {
   "cell_type": "code",
   "execution_count": 34,
   "id": "15b29147",
   "metadata": {},
   "outputs": [
    {
     "name": "stdout",
     "output_type": "stream",
     "text": [
      "Enter First Name  :Aqib\n",
      "Enter Last  Name  :Khan\n",
      "Name Doesn,t Found!!!\n"
     ]
    }
   ],
   "source": [
    "#Activity Six :\n",
    "\n",
    "sample = {(\"Ali\",\"Ahmed\"):\"03555098183\", ('Ahsan','Khan'):\"045777457485\", (\"Ammar\", \"Khan\"): \"046663874637\"}\n",
    "F_name = input (\"Enter First Name  :\")\n",
    "L_name = input (\"Enter Last  Name  :\")\n",
    "\n",
    "searchTuple = (F_name , L_name)\n",
    "if searchTuple in sample:\n",
    "    print(sample[searchTuple])\n",
    "else:\n",
    "    print(\"Name Doesn,t Found!!!\")"
   ]
  },
  {
   "cell_type": "code",
   "execution_count": 45,
   "id": "e6ed34c9",
   "metadata": {},
   "outputs": [
    {
     "name": "stdout",
     "output_type": "stream",
     "text": [
      "Enter The Value Here   :22\n",
      "Enter The Value Here   :33\n",
      "Enter The Value Here   :44\n",
      "Enter The Value Here   :55\n",
      "Enter The Value Here   :66\n",
      "Enter The Value Here   :77\n",
      "\n",
      "Before Sorting  :\n",
      "[22, 33, 44, 55, 66, 77]\n",
      "\n",
      "After Sorting  :\n",
      "[22, 33, 44, 55, 66, 77]\n",
      "\n",
      "Largest Value  : 77\n",
      "Smallest Value : 22\n"
     ]
    }
   ],
   "source": [
    "#Lab Task One and Two :\n",
    "list1 = []\n",
    "\n",
    "for i in range(3):\n",
    "    inp = int(input('Enter The Value Here   :'))\n",
    "    list1.append(inp)\n",
    "\n",
    "list2 = []\n",
    "for i in range(3):\n",
    "    inp = int(input('Enter The Value Here   :'))\n",
    "    list2.append(inp)\n",
    "list3 = list1+list2\n",
    "print()\n",
    "print('Before Sorting  :')\n",
    "print(list3)              \n",
    "list3.sort()\n",
    "print()              \n",
    "print('After Sorting  :')\n",
    "print(list3)              \n",
    " \n",
    "print()\n",
    "print('Largest Value  :',max(list3))\n",
    "print('Smallest Value :',min(list3))"
   ]
  },
  {
   "cell_type": "markdown",
   "id": "cd7fddff",
   "metadata": {},
   "source": [
    "\n"
   ]
  },
  {
   "cell_type": "code",
   "execution_count": 52,
   "id": "222b5818",
   "metadata": {},
   "outputs": [
    {
     "name": "stdout",
     "output_type": "stream",
     "text": [
      "Enter The First Name  :Ali\n",
      "Enter The Last Name   :Ahmed\n",
      "20-09-2002\n"
     ]
    }
   ],
   "source": [
    "#lab task 4 :\n",
    "mydict = {(\"Ali\",\"Ahmed\"):\"20-09-2002\", (\"Shan\",\"Karim\"):\"09-10-2000\", (\"Kashif\",\"Mirza\"):\"19-09-1998\"}\n",
    "\n",
    "F_Name = input('Enter The First Name  :')\n",
    "L_Name = input('Enter The Last Name   :')\n",
    "\n",
    "searchTuple = (F_Name, L_Name)\n",
    "\n",
    "if searchTuple in mydict:\n",
    "    print(mydict[searchTuple])\n",
    "else:\n",
    "    print('Name Does not Found !')"
   ]
  },
  {
   "cell_type": "code",
   "execution_count": null,
   "id": "8591356a",
   "metadata": {},
   "outputs": [],
   "source": []
  }
 ],
 "metadata": {
  "kernelspec": {
   "display_name": "Python 3 (ipykernel)",
   "language": "python",
   "name": "python3"
  },
  "language_info": {
   "codemirror_mode": {
    "name": "ipython",
    "version": 3
   },
   "file_extension": ".py",
   "mimetype": "text/x-python",
   "name": "python",
   "nbconvert_exporter": "python",
   "pygments_lexer": "ipython3",
   "version": "3.9.12"
  }
 },
 "nbformat": 4,
 "nbformat_minor": 5
}
